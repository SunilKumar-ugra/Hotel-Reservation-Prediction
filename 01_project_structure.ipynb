{
 "cells": [
  {
   "cell_type": "code",
   "execution_count": 1,
   "metadata": {},
   "outputs": [],
   "source": [
    "import os \n",
    "from pathlib import Path\n",
    "import logging"
   ]
  },
  {
   "cell_type": "markdown",
   "metadata": {},
   "source": [
    "# Project - Setup"
   ]
  },
  {
   "cell_type": "code",
   "execution_count": 15,
   "metadata": {},
   "outputs": [],
   "source": [
    "list_of_files = [\n",
    "    \"artifact/delete_later\",\n",
    "\n",
    "    \"config/__init__.py\",\n",
    "    \"config/config.yaml\",\n",
    "    \"config/model_params.py\",\n",
    "    \"config/path_config.py\",\n",
    "\n",
    "    \"src/__init__.py\",\n",
    "    \"src/data_ingestion.py\",\n",
    "    \"src/data_preprocessing.py\",\n",
    "    \"src/model_training.py\",\n",
    "    \"src/logger.py\",\n",
    "    \n",
    "    \"utils/__init__.py\",\n",
    "    \"utils/common_functions.py\",\n",
    "\n",
    "\n",
    "    \"pipeline/__init__.py\",\n",
    "    \"pipeline/traing_pipeline.py\",\n",
    "    \n",
    "    \"static/style.css\",\n",
    "    \"templates/index.html\",\n",
    "\n",
    "    \"application.py\",\n",
    "\n",
    "    \"requirements.txt\",\n",
    "    \"setup.py\",\n",
    "\n",
    "    \"Dockerfile\",\n",
    "    \"Jenkinsfile\",\n",
    "    \"README.md\",\n",
    "]"
   ]
  },
  {
   "cell_type": "code",
   "execution_count": 16,
   "metadata": {},
   "outputs": [],
   "source": [
    "for filepath in list_of_files:\n",
    "    filepath = Path(filepath)\n",
    "    filedir, filename = os.path.split(filepath)\n",
    "\n",
    "    if filedir != \"\":\n",
    "        os.makedirs(filedir, exist_ok=True)\n",
    "        logging.info(f\"Creating directory:{filedir} for the file {filename}\")\n",
    "    \n",
    "    if (not os.path.exists(filepath)) or (os.path.getsize(filepath) == 0):\n",
    "        with open(filepath,'w') as f:\n",
    "            pass\n",
    "            logging.info(f\"Creating empty file: {filepath}\")\n",
    "    else:\n",
    "        logging.info(f\"{filename} is already exists\")"
   ]
  },
  {
   "cell_type": "markdown",
   "metadata": {},
   "source": [
    "# Requirements"
   ]
  },
  {
   "cell_type": "code",
   "execution_count": 10,
   "metadata": {},
   "outputs": [
    {
     "name": "stdout",
     "output_type": "stream",
     "text": [
      "Appending to requirements.txt\n"
     ]
    }
   ],
   "source": [
    "%%writefile -a requirements.txt\n",
    "pandas \n",
    "numpy\n",
    "google-cloud-storage\n",
    "scikit-learn\n",
    "pyyaml\n",
    "imbalanced-learn\n",
    "lightgbm\n",
    "mlflow\n",
    "flask"
   ]
  },
  {
   "cell_type": "markdown",
   "metadata": {},
   "source": [
    "# Setup.py"
   ]
  },
  {
   "cell_type": "code",
   "execution_count": null,
   "metadata": {},
   "outputs": [],
   "source": [
    "%%writefile -a setup.py\n",
    "import setuptools\n",
    "\n",
    "with open(\"README.md\", \"r\", encoding=\"utf-8\") as f:\n",
    "    long_description = f.read()\n",
    "\n",
    "\n",
    "__version__ = \"0.0.0\"\n",
    "\n",
    "GITHUB_REPO_NAME = \"Hotel-Reservation-Prediction\"\n",
    "GITHUB_AUTHOR_USER_NAME = \"SunilKumar-ugra\"\n",
    "SRC_REPO = \"src\"\n",
    "GITHUB_AUTHOR_EMAIL = \"ugargolsunilkumar@gmail.com\"\n",
    "\n",
    "\n",
    "\n",
    "setuptools.setup(\n",
    "    name=SRC_REPO,\n",
    "    version=__version__,\n",
    "    author=GITHUB_AUTHOR_USER_NAME,\n",
    "    author_email=GITHUB_AUTHOR_EMAIL,\n",
    "    description=\"Hotel-Reservation-Prediction\",\n",
    "    long_description=long_description,\n",
    "    long_description_content=\"text/markdown\",\n",
    "    url=f\"https://github.com/{GITHUB_AUTHOR_USER_NAME}/{GITHUB_REPO_NAME}\",\n",
    "    project_urls={\n",
    "        \"Bug Tracker\": f\"https://github.com/{GITHUB_AUTHOR_USER_NAME}/{GITHUB_REPO_NAME}/issues\",\n",
    "    },\n",
    "    package_dir={\"\": \"src\"},\n",
    "    packages=setuptools.find_packages(where=\"src\")\n",
    ")"
   ]
  },
  {
   "cell_type": "code",
   "execution_count": 13,
   "metadata": {},
   "outputs": [
    {
     "name": "stdout",
     "output_type": "stream",
     "text": [
      "Appending to setup.py\n"
     ]
    }
   ],
   "source": [
    "%%writefile -a setup.py\n",
    "from setuptools import setup,find_packages\n",
    "\n",
    "with open(\"requirements.txt\") as f:\n",
    "    requirements = f.read().splitlines()\n",
    "\n",
    "setup(\n",
    "    name=\"Hotel-Reservation-Prediction\",\n",
    "    version=\"0.1\",\n",
    "    author=\"SunilKumar-ugra\",\n",
    "    packages=find_packages(),\n",
    "    install_requires = requirements,\n",
    ")"
   ]
  },
  {
   "cell_type": "code",
   "execution_count": null,
   "metadata": {},
   "outputs": [
    {
     "name": "stdout",
     "output_type": "stream",
     "text": [
      "Microsoft Windows [Version 10.0.19045.5487]\n",
      "(c) Microsoft Corporation. All rights reserved.\n",
      "\n",
      "(Hotel_reserv_pred) e:\\Mlops_Udemy\\Hotel Reservation Prediction>python setup.py\n"
     ]
    },
    {
     "name": "stderr",
     "output_type": "stream",
     "text": [
      "usage: setup.py [global_opts] cmd1 [cmd1_opts] [cmd2 [cmd2_opts] ...]\n",
      "   or: setup.py --help [cmd1 cmd2 ...]\n",
      "   or: setup.py --help-commands\n",
      "   or: setup.py cmd --help\n",
      "\n",
      "error: no commands supplied\n"
     ]
    },
    {
     "name": "stdout",
     "output_type": "stream",
     "text": [
      "\n",
      "(Hotel_reserv_pred) e:\\Mlops_Udemy\\Hotel Reservation Prediction>"
     ]
    }
   ],
   "source": [
    "%%cmd \n",
    "pip install -e . "
   ]
  },
  {
   "cell_type": "markdown",
   "metadata": {},
   "source": [
    "# Custom Logging"
   ]
  },
  {
   "cell_type": "code",
   "execution_count": null,
   "metadata": {},
   "outputs": [
    {
     "name": "stdout",
     "output_type": "stream",
     "text": [
      "Appending to src/logger.py\n"
     ]
    }
   ],
   "source": [
    "%%writefile -a src/logger.py\n",
    "import logging\n",
    "import os\n",
    "from datetime import datetime\n",
    "import sys\n",
    "\n",
    "#LOG_FILE=f\"{datetime.now().strftime('%m_%d_%Y_%H_%M_%S')}.log\"\n",
    "LOG_FILE=f\"{datetime.now().strftime('%m_%d_%Y-%H')}.log\" \n",
    "logs_path=os.path.join(os.getcwd(),\"logs\",LOG_FILE)\n",
    "os.makedirs(logs_path,exist_ok=True)\n",
    "\n",
    "LOG_FILE_PATH=os.path.join(logs_path,LOG_FILE) # log file path\n",
    "\n",
    "logging.basicConfig(\n",
    "    format=\"[%(asctime)s] - %(name)s - %(levelname)s - %(module)s file - LineNum:%(lineno)d - %(message)s\",\n",
    "    level=logging.INFO,\n",
    "    handlers=[\n",
    "        logging.FileHandler(LOG_FILE_PATH),     # file handler\n",
    "        logging.StreamHandler(sys.stdout)       # console handler\n",
    "    ]\n",
    ")\n",
    "\n",
    "\n",
    "logger=logging.getLogger(\"Hotel-Reservation-Prediction\")\n",
    "\n",
    "def get_logger(name):\n",
    "    logger = logging.getLogger(name)\n",
    "    logger.setLevel(logging.INFO)\n",
    "    return logger"
   ]
  },
  {
   "cell_type": "code",
   "execution_count": 6,
   "metadata": {},
   "outputs": [
    {
     "name": "stdout",
     "output_type": "stream",
     "text": [
      "Appending to src/logger.py\n"
     ]
    }
   ],
   "source": [
    "%%writefile -a src/logger.py\n",
    "import logging\n",
    "import os\n",
    "from datetime import datetime\n",
    "\n",
    "LOGS_DIR = \"logs\"\n",
    "os.makedirs(LOGS_DIR,exist_ok=True)\n",
    "\n",
    "LOG_FILE = os.path.join(LOGS_DIR, f\"log_{datetime.now().strftime('%Y-%m-%d')}.log\")\n",
    "\n",
    "logging.basicConfig(\n",
    "    filename=LOG_FILE,\n",
    "    format='%(asctime)s - %(levelname)s - %(message)s',\n",
    "    level=logging.INFO\n",
    ")\n",
    "\n",
    "def get_logger(name):\n",
    "    logger = logging.getLogger(name)\n",
    "    logger.setLevel(logging.INFO)\n",
    "    return logger"
   ]
  },
  {
   "cell_type": "markdown",
   "metadata": {},
   "source": [
    "# Custom Exception"
   ]
  },
  {
   "cell_type": "code",
   "execution_count": null,
   "metadata": {},
   "outputs": [],
   "source": [
    "import traceback\n",
    "import sys\n",
    "\n",
    "class CustomException(Exception):\n",
    "\n",
    "    def __init__(self, error_message, error_detail:sys):\n",
    "        super().__init__(error_message)\n",
    "        self.error_message = self.get_detailed_error_message(error_message,error_detail)\n",
    "\n",
    "    @staticmethod\n",
    "    def get_detailed_error_message(error_message , error_detail:sys):\n",
    "\n",
    "        _, _, exc_tb = traceback.sys.exc_info()\n",
    "        file_name = exc_tb.tb_frame.f_code.co_filename\n",
    "        line_number = exc_tb.tb_lineno\n",
    "\n",
    "        return f\"Error in {file_name} , line {line_number} : {error_message}\"\n",
    "    \n",
    "    def __str__(self):\n",
    "        return self.error_message\n",
    "         \n",
    "\n"
   ]
  },
  {
   "cell_type": "markdown",
   "metadata": {},
   "source": [
    "# Utils - commom Function"
   ]
  },
  {
   "cell_type": "code",
   "execution_count": null,
   "metadata": {},
   "outputs": [
    {
     "name": "stdout",
     "output_type": "stream",
     "text": [
      "Overwriting utils/common_functions.py\n"
     ]
    }
   ],
   "source": [
    "%%writefile -a utils/common_functions.py\n",
    "import os\n",
    "import pandas\n",
    "from src.logger import get_logger\n",
    "from src.custom_exception import CustomException\n",
    "import yaml\n",
    "import pandas as pd\n",
    "\n",
    "logger = get_logger(__name__)\n",
    "\n",
    "def read_yaml(file_path):\n",
    "    try:\n",
    "        if not os.path.exists(file_path):\n",
    "            raise FileNotFoundError(f\"File is not in the given path\")\n",
    "        \n",
    "        with open(file_path,\"r\") as yaml_file:\n",
    "            config = yaml.safe_load(yaml_file)\n",
    "            logger.info(\"Succesfully read the YAML file\")\n",
    "            return config\n",
    "    \n",
    "    except Exception as e:\n",
    "        logger.error(\"Error while reading YAML file\")\n",
    "        raise CustomException(\"Failed to read YAMl file\" , e)\n",
    "    \n",
    "\n",
    "def load_data(path):\n",
    "    try:\n",
    "        logger.info(\"Loading data\")\n",
    "        return pd.read_csv(path)\n",
    "    except Exception as e:\n",
    "        logger.error(f\"Error loading the data {e}\")\n",
    "        raise CustomException(\"Failed to load data\" , e)\n",
    "    "
   ]
  },
  {
   "cell_type": "code",
   "execution_count": 2,
   "metadata": {},
   "outputs": [],
   "source": [
    "from src.logger import logger"
   ]
  },
  {
   "cell_type": "code",
   "execution_count": 5,
   "metadata": {},
   "outputs": [
    {
     "name": "stdout",
     "output_type": "stream",
     "text": [
      "[2025-03-12 16:38:07,361] - Hotel-Reservation-Prediction - INFO - 2012120710 file - LineNum:1 - Testing the logger\n",
      "[2025-03-12 16:38:07,363] - Hotel-Reservation-Prediction - ERROR - 2012120710 file - LineNum:2 - Testing the logger error\n",
      "[2025-03-12 16:38:07,365] - Hotel-Reservation-Prediction - WARNING - 2012120710 file - LineNum:3 - Testing the logger warning\n"
     ]
    }
   ],
   "source": [
    "logger.info(\"Testing the logger\")\n",
    "logger.error(\"Testing the logger error\")\n",
    "logger.warning(\"Testing the logger warning\")"
   ]
  }
 ],
 "metadata": {
  "kernelspec": {
   "display_name": "Hotel_reserv_pred",
   "language": "python",
   "name": "python3"
  },
  "language_info": {
   "codemirror_mode": {
    "name": "ipython",
    "version": 3
   },
   "file_extension": ".py",
   "mimetype": "text/x-python",
   "name": "python",
   "nbconvert_exporter": "python",
   "pygments_lexer": "ipython3",
   "version": "3.12.9"
  }
 },
 "nbformat": 4,
 "nbformat_minor": 2
}
