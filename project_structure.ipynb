{
 "cells": [
  {
   "cell_type": "code",
   "execution_count": 1,
   "metadata": {},
   "outputs": [],
   "source": [
    "import os \n",
    "from pathlib import Path\n",
    "import logging"
   ]
  },
  {
   "cell_type": "code",
   "execution_count": 8,
   "metadata": {},
   "outputs": [],
   "source": [
    "list_of_files = [\n",
    "    \"artifact/delete_later\",\n",
    "\n",
    "    \"config/__init__.py\",\n",
    "    \"config/config.yaml\",\n",
    "    \"config/model_params.py\",\n",
    "    \"config/path_config.py\",\n",
    "\n",
    "    \"src/__init__.py\",\n",
    "    \"src/data_ingestion.py\",\n",
    "    \"src/data_preprocessing.py\",\n",
    "    \"src/model_training.py\",\n",
    "    \"src/logger.py\",\n",
    "    \n",
    "    \"utils/__init__.py\",\n",
    "    \"utils/common_functions.py\",\n",
    "\n",
    "\n",
    "    \"pipeline/__init__.py\",\n",
    "    \"pipeline/traing_pipeline.py\",\n",
    "    \n",
    "    \"static/style.css\",\n",
    "    \"templates/index.html\"\n",
    "\n",
    "    \"application.py\",\n",
    "\n",
    "    \"requirements.txt\",\n",
    "    \"setup.py\",\n",
    "\n",
    "    \"Dockerfile\",\n",
    "    \"Jenkinsfile\",\n",
    "    \"README.md\",\n",
    "]"
   ]
  },
  {
   "cell_type": "code",
   "execution_count": 9,
   "metadata": {},
   "outputs": [],
   "source": [
    "for filepath in list_of_files:\n",
    "    filepath = Path(filepath)\n",
    "    filedir, filename = os.path.split(filepath)\n",
    "\n",
    "    if filedir != \"\":\n",
    "        os.makedirs(filedir, exist_ok=True)\n",
    "        logging.info(f\"Creating directory:{filedir} for the file {filename}\")\n",
    "    \n",
    "    if (not os.path.exists(filepath)) or (os.path.getsize(filepath) == 0):\n",
    "        with open(filepath,'w') as f:\n",
    "            pass\n",
    "            logging.info(f\"Creating empty file: {filepath}\")\n",
    "    else:\n",
    "        logging.info(f\"{filename} is already exists\")"
   ]
  }
 ],
 "metadata": {
  "kernelspec": {
   "display_name": "Hotel_reserv_pred",
   "language": "python",
   "name": "python3"
  },
  "language_info": {
   "codemirror_mode": {
    "name": "ipython",
    "version": 3
   },
   "file_extension": ".py",
   "mimetype": "text/x-python",
   "name": "python",
   "nbconvert_exporter": "python",
   "pygments_lexer": "ipython3",
   "version": "3.12.9"
  }
 },
 "nbformat": 4,
 "nbformat_minor": 2
}
