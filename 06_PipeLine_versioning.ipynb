{
 "cells": [
  {
   "cell_type": "markdown",
   "metadata": {},
   "source": [
    "# PipeLine"
   ]
  },
  {
   "cell_type": "code",
   "execution_count": null,
   "metadata": {},
   "outputs": [],
   "source": [
    "%%writefile -a pipeline/traing_pipeline.py  \n",
    "\n",
    "from utils.common_functions import read_yaml\n",
    "from config.paths_config import *\n",
    "\n",
    "\n",
    "if __name__==\"__main__\":\n",
    "    ### 1. Data Ingestion\n",
    "    from src.data_ingestion import DataIngestion\n",
    "    data_ingestion = DataIngestion(read_yaml(CONFIG_PATH))\n",
    "    data_ingestion.run()\n",
    "    ############################################################\n",
    "\n",
    "\n",
    "    ### 2. Data Processing\n",
    "    from src.data_preprocessing import DataProcessor\n",
    "    processor = DataProcessor(TRAIN_FILE_PATH,TEST_FILE_PATH,PROCESSED_DIR,CONFIG_PATH)\n",
    "    processor.process()\n",
    "    #################################################################################################\n",
    "\n",
    "\n",
    "    ### 3. Model Training\n",
    "    from src.model_training import ModelTraining\n",
    "    trainer = ModelTraining(PROCESSED_TRAIN_DATA_PATH,PROCESSED_TEST_DATA_PATH,MODEL_OUTPUT_PATH)\n",
    "    trainer.run()\n",
    "    ################################################################################################\n"
   ]
  }
 ],
 "metadata": {
  "kernelspec": {
   "display_name": "Hotel_reserv_pred",
   "language": "python",
   "name": "python3"
  },
  "language_info": {
   "name": "python",
   "version": "3.12.9"
  }
 },
 "nbformat": 4,
 "nbformat_minor": 2
}
